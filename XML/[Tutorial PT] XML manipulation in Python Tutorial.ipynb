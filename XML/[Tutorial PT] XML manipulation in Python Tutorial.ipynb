{
 "cells": [
  {
   "cell_type": "markdown",
   "metadata": {},
   "source": [
    "# (PT-BR) O que é um arquivo XML?\n",
    "\n",
    "- XML, do inglês eXtensible Markup Language, é uma linguagem de marcação recomendada pela W3C para a criação de documentos com dados organizados hierarquicamente, tais como textos, banco de dados ou desenhos vetoriais. A linguagem XML é classificada como extensível porque permite definir os elementos de marcação.\n",
    "\n",
    "### Linguagem de marcação:\n",
    "\n",
    "- Linguagem de marcação é um agregado de códigos que podem ser aplicados a dados ou textos para serem lidos por computadores ou pessoas. Por exemplo, o HTML é uma linguagem de marcação para organizar e formatar um website, já o XML tem o mesmo conceito, mas para padronizar uma sequência de dados com o objetivo de organizar, separar o conteúdo e integrá-lo com outras linguagens.\n",
    "\n",
    "### Principais características:\n",
    "\n",
    "- O XML traz uma sintaxe básica que pode ser utilizada para compartilhar informações entre diferentes computadores e aplicações. Quando combinado com outros padrões, torna possível definir o conteúdo de um documento separadamente de seu formato, tornando simples para reutilizar o código em outras aplicações para diferentes propósitos. Portanto, uma das suas principais características é sua portabilidade, pois, por exemplo, um banco de dados pode escrever um arquivo XML para que outro banco consiga lê-lo.  \n",
    "\n",
    "### Exemplo de código:\n",
    "\n",
    "<img src=\"https://img1.ibxk.com.br/materias/ExemploXML.jpg?w=700\" alt=\"example\">"
   ]
  },
  {
   "cell_type": "markdown",
   "metadata": {},
   "source": [
    "# Python manipulation:\n",
    "\n",
    "- Using Element Tree to manipulate XML files"
   ]
  },
  {
   "cell_type": "markdown",
   "metadata": {},
   "source": [
    "# Importing necessary libs"
   ]
  },
  {
   "cell_type": "code",
   "execution_count": 1,
   "metadata": {
    "collapsed": true
   },
   "outputs": [],
   "source": [
    "import xml.etree.ElementTree as ET\n",
    "import pandas as pd"
   ]
  },
  {
   "cell_type": "markdown",
   "metadata": {},
   "source": [
    "# Reading XML file"
   ]
  },
  {
   "cell_type": "code",
   "execution_count": 2,
   "metadata": {
    "collapsed": true
   },
   "outputs": [],
   "source": [
    "tree = ET.parse('cd_catalog.xml')\n",
    "root = tree.getroot()"
   ]
  },
  {
   "cell_type": "markdown",
   "metadata": {},
   "source": [
    "# Getting Tag and attribute of the root\n",
    "\n",
    "Here we can also check if theres is some \"text\" attribute between the root tag"
   ]
  },
  {
   "cell_type": "code",
   "execution_count": 3,
   "metadata": {},
   "outputs": [
    {
     "data": {
      "text/plain": [
       "'CATALOG'"
      ]
     },
     "execution_count": 3,
     "metadata": {},
     "output_type": "execute_result"
    }
   ],
   "source": [
    "root.tag"
   ]
  },
  {
   "cell_type": "code",
   "execution_count": 4,
   "metadata": {},
   "outputs": [
    {
     "data": {
      "text/plain": [
       "{}"
      ]
     },
     "execution_count": 4,
     "metadata": {},
     "output_type": "execute_result"
    }
   ],
   "source": [
    "root.attrib"
   ]
  },
  {
   "cell_type": "markdown",
   "metadata": {},
   "source": [
    "# Printing child tag and attrib of roots child"
   ]
  },
  {
   "cell_type": "code",
   "execution_count": 5,
   "metadata": {},
   "outputs": [
    {
     "name": "stdout",
     "output_type": "stream",
     "text": [
      "CD {}\n",
      "CD {}\n",
      "CD {}\n",
      "CD {}\n",
      "CD {}\n",
      "CD {}\n",
      "CD {}\n",
      "CD {}\n",
      "CD {}\n",
      "CD {}\n",
      "CD {}\n",
      "CD {}\n",
      "CD {}\n",
      "CD {}\n",
      "CD {}\n",
      "CD {}\n",
      "CD {}\n",
      "CD {}\n",
      "CD {}\n",
      "CD {}\n",
      "CD {}\n",
      "CD {}\n",
      "CD {}\n",
      "CD {}\n",
      "CD {}\n",
      "CD {}\n"
     ]
    }
   ],
   "source": [
    "for child in root:\n",
    "    print(child.tag, child.attrib)"
   ]
  },
  {
   "cell_type": "markdown",
   "metadata": {},
   "source": [
    "# Printing the entire XML file into python"
   ]
  },
  {
   "cell_type": "code",
   "execution_count": 6,
   "metadata": {},
   "outputs": [
    {
     "name": "stdout",
     "output_type": "stream",
     "text": [
      "<?xml version='1.0' encoding='utf8'?>\n",
      "<CATALOG>\n",
      "  <CD>\n",
      "    <TITLE>Empire Burlesque</TITLE>\n",
      "    <ARTIST>Bob Dylan</ARTIST>\n",
      "    <COUNTRY>USA</COUNTRY>\n",
      "    <COMPANY>Columbia</COMPANY>\n",
      "    <PRICE>10.90</PRICE>\n",
      "    <YEAR>1985</YEAR>\n",
      "  </CD>\n",
      "  <CD>\n",
      "    <TITLE>Hide your heart</TITLE>\n",
      "    <ARTIST>Bonnie Tyler</ARTIST>\n",
      "    <COUNTRY>UK</COUNTRY>\n",
      "    <COMPANY>CBS Records</COMPANY>\n",
      "    <PRICE>9.90</PRICE>\n",
      "    <YEAR>1988</YEAR>\n",
      "  </CD>\n",
      "  <CD>\n",
      "    <TITLE>Greatest Hits</TITLE>\n",
      "    <ARTIST>Dolly Parton</ARTIST>\n",
      "    <COUNTRY>USA</COUNTRY>\n",
      "    <COMPANY>RCA</COMPANY>\n",
      "    <PRICE>9.90</PRICE>\n",
      "    <YEAR>1982</YEAR>\n",
      "  </CD>\n",
      "  <CD>\n",
      "    <TITLE>Still got the blues</TITLE>\n",
      "    <ARTIST>Gary Moore</ARTIST>\n",
      "    <COUNTRY>UK</COUNTRY>\n",
      "    <COMPANY>Virgin records</COMPANY>\n",
      "    <PRICE>10.20</PRICE>\n",
      "    <YEAR>1990</YEAR>\n",
      "  </CD>\n",
      "  <CD>\n",
      "    <TITLE>Eros</TITLE>\n",
      "    <ARTIST>Eros Ramazzotti</ARTIST>\n",
      "    <COUNTRY>EU</COUNTRY>\n",
      "    <COMPANY>BMG</COMPANY>\n",
      "    <PRICE>9.90</PRICE>\n",
      "    <YEAR>1997</YEAR>\n",
      "  </CD>\n",
      "  <CD>\n",
      "    <TITLE>One night only</TITLE>\n",
      "    <ARTIST>Bee Gees</ARTIST>\n",
      "    <COUNTRY>UK</COUNTRY>\n",
      "    <COMPANY>Polydor</COMPANY>\n",
      "    <PRICE>10.90</PRICE>\n",
      "    <YEAR>1998</YEAR>\n",
      "  </CD>\n",
      "  <CD>\n",
      "    <TITLE>Sylvias Mother</TITLE>\n",
      "    <ARTIST>Dr.Hook</ARTIST>\n",
      "    <COUNTRY>UK</COUNTRY>\n",
      "    <COMPANY>CBS</COMPANY>\n",
      "    <PRICE>8.10</PRICE>\n",
      "    <YEAR>1973</YEAR>\n",
      "  </CD>\n",
      "  <CD>\n",
      "    <TITLE>Maggie May</TITLE>\n",
      "    <ARTIST>Rod Stewart</ARTIST>\n",
      "    <COUNTRY>UK</COUNTRY>\n",
      "    <COMPANY>Pickwick</COMPANY>\n",
      "    <PRICE>8.50</PRICE>\n",
      "    <YEAR>1990</YEAR>\n",
      "  </CD>\n",
      "  <CD>\n",
      "    <TITLE>Romanza</TITLE>\n",
      "    <ARTIST>Andrea Bocelli</ARTIST>\n",
      "    <COUNTRY>EU</COUNTRY>\n",
      "    <COMPANY>Polydor</COMPANY>\n",
      "    <PRICE>10.80</PRICE>\n",
      "    <YEAR>1996</YEAR>\n",
      "  </CD>\n",
      "  <CD>\n",
      "    <TITLE>When a man loves a woman</TITLE>\n",
      "    <ARTIST>Percy Sledge</ARTIST>\n",
      "    <COUNTRY>USA</COUNTRY>\n",
      "    <COMPANY>Atlantic</COMPANY>\n",
      "    <PRICE>8.70</PRICE>\n",
      "    <YEAR>1987</YEAR>\n",
      "  </CD>\n",
      "  <CD>\n",
      "    <TITLE>Black angel</TITLE>\n",
      "    <ARTIST>Savage Rose</ARTIST>\n",
      "    <COUNTRY>EU</COUNTRY>\n",
      "    <COMPANY>Mega</COMPANY>\n",
      "    <PRICE>10.90</PRICE>\n",
      "    <YEAR>1995</YEAR>\n",
      "  </CD>\n",
      "  <CD>\n",
      "    <TITLE>1999 Grammy Nominees</TITLE>\n",
      "    <ARTIST>Many</ARTIST>\n",
      "    <COUNTRY>USA</COUNTRY>\n",
      "    <COMPANY>Grammy</COMPANY>\n",
      "    <PRICE>10.20</PRICE>\n",
      "    <YEAR>1999</YEAR>\n",
      "  </CD>\n",
      "  <CD>\n",
      "    <TITLE>For the good times</TITLE>\n",
      "    <ARTIST>Kenny Rogers</ARTIST>\n",
      "    <COUNTRY>UK</COUNTRY>\n",
      "    <COMPANY>Mucik Master</COMPANY>\n",
      "    <PRICE>8.70</PRICE>\n",
      "    <YEAR>1995</YEAR>\n",
      "  </CD>\n",
      "  <CD>\n",
      "    <TITLE>Big Willie style</TITLE>\n",
      "    <ARTIST>Will Smith</ARTIST>\n",
      "    <COUNTRY>USA</COUNTRY>\n",
      "    <COMPANY>Columbia</COMPANY>\n",
      "    <PRICE>9.90</PRICE>\n",
      "    <YEAR>1997</YEAR>\n",
      "  </CD>\n",
      "  <CD>\n",
      "    <TITLE>Tupelo Honey</TITLE>\n",
      "    <ARTIST>Van Morrison</ARTIST>\n",
      "    <COUNTRY>UK</COUNTRY>\n",
      "    <COMPANY>Polydor</COMPANY>\n",
      "    <PRICE>8.20</PRICE>\n",
      "    <YEAR>1971</YEAR>\n",
      "  </CD>\n",
      "  <CD>\n",
      "    <TITLE>Soulsville</TITLE>\n",
      "    <ARTIST>Jorn Hoel</ARTIST>\n",
      "    <COUNTRY>Norway</COUNTRY>\n",
      "    <COMPANY>WEA</COMPANY>\n",
      "    <PRICE>7.90</PRICE>\n",
      "    <YEAR>1996</YEAR>\n",
      "  </CD>\n",
      "  <CD>\n",
      "    <TITLE>The very best of</TITLE>\n",
      "    <ARTIST>Cat Stevens</ARTIST>\n",
      "    <COUNTRY>UK</COUNTRY>\n",
      "    <COMPANY>Island</COMPANY>\n",
      "    <PRICE>8.90</PRICE>\n",
      "    <YEAR>1990</YEAR>\n",
      "  </CD>\n",
      "  <CD>\n",
      "    <TITLE>Stop</TITLE>\n",
      "    <ARTIST>Sam Brown</ARTIST>\n",
      "    <COUNTRY>UK</COUNTRY>\n",
      "    <COMPANY>A and M</COMPANY>\n",
      "    <PRICE>8.90</PRICE>\n",
      "    <YEAR>1988</YEAR>\n",
      "  </CD>\n",
      "  <CD>\n",
      "    <TITLE>Bridge of Spies</TITLE>\n",
      "    <ARTIST>T'Pau</ARTIST>\n",
      "    <COUNTRY>UK</COUNTRY>\n",
      "    <COMPANY>Siren</COMPANY>\n",
      "    <PRICE>7.90</PRICE>\n",
      "    <YEAR>1987</YEAR>\n",
      "  </CD>\n",
      "  <CD>\n",
      "    <TITLE>Private Dancer</TITLE>\n",
      "    <ARTIST>Tina Turner</ARTIST>\n",
      "    <COUNTRY>UK</COUNTRY>\n",
      "    <COMPANY>Capitol</COMPANY>\n",
      "    <PRICE>8.90</PRICE>\n",
      "    <YEAR>1983</YEAR>\n",
      "  </CD>\n",
      "  <CD>\n",
      "    <TITLE>Midt om natten</TITLE>\n",
      "    <ARTIST>Kim Larsen</ARTIST>\n",
      "    <COUNTRY>EU</COUNTRY>\n",
      "    <COMPANY>Medley</COMPANY>\n",
      "    <PRICE>7.80</PRICE>\n",
      "    <YEAR>1983</YEAR>\n",
      "  </CD>\n",
      "  <CD>\n",
      "    <TITLE>Pavarotti Gala Concert</TITLE>\n",
      "    <ARTIST>Luciano Pavarotti</ARTIST>\n",
      "    <COUNTRY>UK</COUNTRY>\n",
      "    <COMPANY>DECCA</COMPANY>\n",
      "    <PRICE>9.90</PRICE>\n",
      "    <YEAR>1991</YEAR>\n",
      "  </CD>\n",
      "  <CD>\n",
      "    <TITLE>The dock of the bay</TITLE>\n",
      "    <ARTIST>Otis Redding</ARTIST>\n",
      "    <COUNTRY>USA</COUNTRY>\n",
      "    <COMPANY>Stax Records</COMPANY>\n",
      "    <PRICE>7.90</PRICE>\n",
      "    <YEAR>1968</YEAR>\n",
      "  </CD>\n",
      "  <CD>\n",
      "    <TITLE>Picture book</TITLE>\n",
      "    <ARTIST>Simply Red</ARTIST>\n",
      "    <COUNTRY>EU</COUNTRY>\n",
      "    <COMPANY>Elektra</COMPANY>\n",
      "    <PRICE>7.20</PRICE>\n",
      "    <YEAR>1985</YEAR>\n",
      "  </CD>\n",
      "  <CD>\n",
      "    <TITLE>Red</TITLE>\n",
      "    <ARTIST>The Communards</ARTIST>\n",
      "    <COUNTRY>UK</COUNTRY>\n",
      "    <COMPANY>London</COMPANY>\n",
      "    <PRICE>7.80</PRICE>\n",
      "    <YEAR>1987</YEAR>\n",
      "  </CD>\n",
      "  <CD>\n",
      "    <TITLE>Unchain my heart</TITLE>\n",
      "    <ARTIST>Joe Cocker</ARTIST>\n",
      "    <COUNTRY>USA</COUNTRY>\n",
      "    <COMPANY>EMI</COMPANY>\n",
      "    <PRICE>8.20</PRICE>\n",
      "    <YEAR>1987</YEAR>\n",
      "  </CD>\n",
      "</CATALOG>\n"
     ]
    }
   ],
   "source": [
    "print(ET.tostring(root,encoding='utf8').decode('utf8'))"
   ]
  },
  {
   "cell_type": "markdown",
   "metadata": {},
   "source": [
    "# Printing all elements of root childs that has the TAG \"title\""
   ]
  },
  {
   "cell_type": "code",
   "execution_count": 7,
   "metadata": {},
   "outputs": [
    {
     "name": "stdout",
     "output_type": "stream",
     "text": [
      "TITLE {} Empire Burlesque\n",
      "TITLE {} Hide your heart\n",
      "TITLE {} Greatest Hits\n",
      "TITLE {} Still got the blues\n",
      "TITLE {} Eros\n",
      "TITLE {} One night only\n",
      "TITLE {} Sylvias Mother\n",
      "TITLE {} Maggie May\n",
      "TITLE {} Romanza\n",
      "TITLE {} When a man loves a woman\n",
      "TITLE {} Black angel\n",
      "TITLE {} 1999 Grammy Nominees\n",
      "TITLE {} For the good times\n",
      "TITLE {} Big Willie style\n",
      "TITLE {} Tupelo Honey\n",
      "TITLE {} Soulsville\n",
      "TITLE {} The very best of\n",
      "TITLE {} Stop\n",
      "TITLE {} Bridge of Spies\n",
      "TITLE {} Private Dancer\n",
      "TITLE {} Midt om natten\n",
      "TITLE {} Pavarotti Gala Concert\n",
      "TITLE {} The dock of the bay\n",
      "TITLE {} Picture book\n",
      "TITLE {} Red\n",
      "TITLE {} Unchain my heart\n"
     ]
    }
   ],
   "source": [
    "for child in root.iter('TITLE'):\n",
    "    print(child.tag, child.attrib, child.text)"
   ]
  },
  {
   "cell_type": "markdown",
   "metadata": {},
   "source": [
    "# Creating a XML file\n"
   ]
  },
  {
   "cell_type": "markdown",
   "metadata": {},
   "source": [
    "## 1. Defining root node"
   ]
  },
  {
   "cell_type": "code",
   "execution_count": 8,
   "metadata": {
    "collapsed": true
   },
   "outputs": [],
   "source": [
    "root = ET.Element('metadata')"
   ]
  },
  {
   "cell_type": "code",
   "execution_count": 9,
   "metadata": {
    "collapsed": true
   },
   "outputs": [],
   "source": [
    "root.text = 'Metadata of database'"
   ]
  },
  {
   "cell_type": "markdown",
   "metadata": {},
   "source": [
    "## 2. Defining directly child"
   ]
  },
  {
   "cell_type": "code",
   "execution_count": 10,
   "metadata": {
    "collapsed": true
   },
   "outputs": [],
   "source": [
    "child1 = ET.SubElement(root, 'variable')"
   ]
  },
  {
   "cell_type": "code",
   "execution_count": 11,
   "metadata": {
    "collapsed": true
   },
   "outputs": [],
   "source": [
    "child1.set('name','variable 1')"
   ]
  },
  {
   "cell_type": "code",
   "execution_count": 12,
   "metadata": {
    "collapsed": true
   },
   "outputs": [],
   "source": [
    "child1.text = 'Variable 1 text'"
   ]
  },
  {
   "cell_type": "code",
   "execution_count": 13,
   "metadata": {
    "collapsed": true
   },
   "outputs": [],
   "source": [
    "child2 = ET.SubElement(root, 'variable')"
   ]
  },
  {
   "cell_type": "code",
   "execution_count": 14,
   "metadata": {
    "collapsed": true
   },
   "outputs": [],
   "source": [
    "child2.set('name', 'variable 2')"
   ]
  },
  {
   "cell_type": "code",
   "execution_count": 15,
   "metadata": {
    "collapsed": true
   },
   "outputs": [],
   "source": [
    "child2.text = 'Variable 2 text'"
   ]
  },
  {
   "cell_type": "markdown",
   "metadata": {},
   "source": [
    "## 3. Defining child of childs (sub-child)"
   ]
  },
  {
   "cell_type": "code",
   "execution_count": 16,
   "metadata": {
    "collapsed": true
   },
   "outputs": [],
   "source": [
    "subchild1 = ET.SubElement(child1, 'range')\n",
    "subchild1.set('type','subchild 1')\n",
    "subchild1.text = 'From 0 to 100'"
   ]
  },
  {
   "cell_type": "markdown",
   "metadata": {},
   "source": [
    "## 4. Creating XML file"
   ]
  },
  {
   "cell_type": "code",
   "execution_count": 17,
   "metadata": {
    "collapsed": true
   },
   "outputs": [],
   "source": [
    "metadata = ET.tostring(root)"
   ]
  },
  {
   "cell_type": "code",
   "execution_count": 18,
   "metadata": {
    "collapsed": true
   },
   "outputs": [],
   "source": [
    "myfile = open('metadata.xml','wb')"
   ]
  },
  {
   "cell_type": "code",
   "execution_count": 19,
   "metadata": {},
   "outputs": [
    {
     "data": {
      "text/plain": [
       "195"
      ]
     },
     "execution_count": 19,
     "metadata": {},
     "output_type": "execute_result"
    }
   ],
   "source": [
    "myfile.write(metadata)"
   ]
  },
  {
   "cell_type": "code",
   "execution_count": 20,
   "metadata": {},
   "outputs": [],
   "source": [
    "tree = ET.ElementTree(root)\n",
    "tree.write(\"test1.xml\")"
   ]
  },
  {
   "cell_type": "markdown",
   "metadata": {},
   "source": [
    "# Testing the XML file created"
   ]
  },
  {
   "cell_type": "code",
   "execution_count": 21,
   "metadata": {
    "collapsed": true
   },
   "outputs": [],
   "source": [
    "tree = ET.parse('test1.xml')\n",
    "root = tree.getroot()"
   ]
  },
  {
   "cell_type": "code",
   "execution_count": 22,
   "metadata": {},
   "outputs": [
    {
     "name": "stdout",
     "output_type": "stream",
     "text": [
      "<?xml version='1.0' encoding='utf8'?>\n",
      "<metadata>Metadata of database<variable name=\"variable 1\">Variable 1 text<range type=\"subchild 1\">From 0 to 100</range></variable><variable name=\"variable 2\">Variable 2 text</variable></metadata>\n"
     ]
    }
   ],
   "source": [
    "print(ET.tostring(root,encoding='utf8').decode('utf8'))"
   ]
  },
  {
   "cell_type": "code",
   "execution_count": 23,
   "metadata": {},
   "outputs": [
    {
     "ename": "ParseError",
     "evalue": "no element found: line 1, column 0 (<string>)",
     "output_type": "error",
     "traceback": [
      "Traceback \u001b[1;36m(most recent call last)\u001b[0m:\n",
      "  File \u001b[0;32m\"c:\\users\\hideki\\appdata\\local\\programs\\python\\python36\\lib\\site-packages\\IPython\\core\\interactiveshell.py\"\u001b[0m, line \u001b[0;32m2862\u001b[0m, in \u001b[0;35mrun_code\u001b[0m\n    exec(code_obj, self.user_global_ns, self.user_ns)\n",
      "  File \u001b[0;32m\"<ipython-input-23-143b1a50a57b>\"\u001b[0m, line \u001b[0;32m1\u001b[0m, in \u001b[0;35m<module>\u001b[0m\n    tree = ET.parse('metadata.xml')\n",
      "  File \u001b[0;32m\"c:\\users\\hideki\\appdata\\local\\programs\\python\\python36\\lib\\xml\\etree\\ElementTree.py\"\u001b[0m, line \u001b[0;32m1196\u001b[0m, in \u001b[0;35mparse\u001b[0m\n    tree.parse(source, parser)\n",
      "\u001b[1;36m  File \u001b[1;32m\"c:\\users\\hideki\\appdata\\local\\programs\\python\\python36\\lib\\xml\\etree\\ElementTree.py\"\u001b[1;36m, line \u001b[1;32m597\u001b[1;36m, in \u001b[1;35mparse\u001b[1;36m\u001b[0m\n\u001b[1;33m    self._root = parser._parse_whole(source)\u001b[0m\n",
      "\u001b[1;36m  File \u001b[1;32m\"<string>\"\u001b[1;36m, line \u001b[1;32munknown\u001b[0m\n\u001b[1;31mParseError\u001b[0m\u001b[1;31m:\u001b[0m no element found: line 1, column 0\n"
     ]
    }
   ],
   "source": [
    "tree = ET.parse('metadata.xml')\n",
    "root = tree.getroot()\n",
    "print(ET.tostring(root,encoding='utf8').decode('utf8'))"
   ]
  }
 ],
 "metadata": {
  "kernelspec": {
   "display_name": "Python 3",
   "language": "python",
   "name": "python3"
  },
  "language_info": {
   "codemirror_mode": {
    "name": "ipython",
    "version": 3
   },
   "file_extension": ".py",
   "mimetype": "text/x-python",
   "name": "python",
   "nbconvert_exporter": "python",
   "pygments_lexer": "ipython3",
   "version": "3.6.1"
  }
 },
 "nbformat": 4,
 "nbformat_minor": 2
}
