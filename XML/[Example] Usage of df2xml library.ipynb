{
 "cells": [
  {
   "cell_type": "markdown",
   "metadata": {},
   "source": [
    "# This notebook shows an example of usage and results of df2xml lib"
   ]
  },
  {
   "cell_type": "code",
   "execution_count": 25,
   "metadata": {
    "collapsed": true
   },
   "outputs": [],
   "source": [
    "import df2xml as d2x\n",
    "\n",
    "# This step is just to reload the package if you want to change something in the source code\n",
    "import importlib\n",
    "importlib.reload(d2x)\n",
    "\n",
    "import pandas as pd"
   ]
  },
  {
   "cell_type": "markdown",
   "metadata": {},
   "source": [
    "# Creating an example Dataframe"
   ]
  },
  {
   "cell_type": "code",
   "execution_count": 26,
   "metadata": {
    "collapsed": true
   },
   "outputs": [],
   "source": [
    "df = pd.DataFrame({'First_column':[1,2,3], 'Second_column': [2,3,4]})"
   ]
  },
  {
   "cell_type": "code",
   "execution_count": 27,
   "metadata": {
    "scrolled": true
   },
   "outputs": [
    {
     "data": {
      "text/html": [
       "<div>\n",
       "<style>\n",
       "    .dataframe thead tr:only-child th {\n",
       "        text-align: right;\n",
       "    }\n",
       "\n",
       "    .dataframe thead th {\n",
       "        text-align: left;\n",
       "    }\n",
       "\n",
       "    .dataframe tbody tr th {\n",
       "        vertical-align: top;\n",
       "    }\n",
       "</style>\n",
       "<table border=\"1\" class=\"dataframe\">\n",
       "  <thead>\n",
       "    <tr style=\"text-align: right;\">\n",
       "      <th></th>\n",
       "      <th>First_column</th>\n",
       "      <th>Second_column</th>\n",
       "    </tr>\n",
       "  </thead>\n",
       "  <tbody>\n",
       "    <tr>\n",
       "      <th>0</th>\n",
       "      <td>1</td>\n",
       "      <td>2</td>\n",
       "    </tr>\n",
       "    <tr>\n",
       "      <th>1</th>\n",
       "      <td>2</td>\n",
       "      <td>3</td>\n",
       "    </tr>\n",
       "    <tr>\n",
       "      <th>2</th>\n",
       "      <td>3</td>\n",
       "      <td>4</td>\n",
       "    </tr>\n",
       "  </tbody>\n",
       "</table>\n",
       "</div>"
      ],
      "text/plain": [
       "   First_column  Second_column\n",
       "0             1              2\n",
       "1             2              3\n",
       "2             3              4"
      ]
     },
     "execution_count": 27,
     "metadata": {},
     "output_type": "execute_result"
    }
   ],
   "source": [
    "df"
   ]
  },
  {
   "cell_type": "markdown",
   "metadata": {},
   "source": [
    "# 1. Init and XMLGenerator object"
   ]
  },
  {
   "cell_type": "code",
   "execution_count": 28,
   "metadata": {
    "collapsed": true
   },
   "outputs": [],
   "source": [
    "meta = d2x.XMLGenerator()"
   ]
  },
  {
   "cell_type": "markdown",
   "metadata": {},
   "source": [
    "# 2. Call \"to_xml\" method to transform a Pandas DataFrame in a XML file\n",
    "\n",
    "It returns an ElementTree root element, which gives the root of XML file generated"
   ]
  },
  {
   "cell_type": "code",
   "execution_count": 29,
   "metadata": {
    "collapsed": true
   },
   "outputs": [],
   "source": [
    "# Defining variable descriptions to add in xml file\n",
    "\n",
    "descriptions = ['First column represents the first type of information','Second column represents the second type of information']"
   ]
  },
  {
   "cell_type": "code",
   "execution_count": 30,
   "metadata": {},
   "outputs": [
    {
     "data": {
      "text/plain": [
       "<Element 'root' at 0x0000020741986368>"
      ]
     },
     "execution_count": 30,
     "metadata": {},
     "output_type": "execute_result"
    }
   ],
   "source": [
    "meta.to_xml(df, descriptions = descriptions)"
   ]
  },
  {
   "cell_type": "markdown",
   "metadata": {},
   "source": [
    "# 3. Save the XML fale with the name \"test.xml\" in your actual directory\n",
    "\n",
    "The argument is just a string name that you want to format the xml file"
   ]
  },
  {
   "cell_type": "code",
   "execution_count": 31,
   "metadata": {},
   "outputs": [
    {
     "data": {
      "text/plain": [
       "'The XML file test.xml was sucessfully created! '"
      ]
     },
     "execution_count": 31,
     "metadata": {},
     "output_type": "execute_result"
    }
   ],
   "source": [
    "meta.save('test')"
   ]
  },
  {
   "cell_type": "markdown",
   "metadata": {},
   "source": [
    "# 4. Now you can call print method in the object to print the XML file"
   ]
  },
  {
   "cell_type": "code",
   "execution_count": 32,
   "metadata": {
    "scrolled": true
   },
   "outputs": [
    {
     "name": "stdout",
     "output_type": "stream",
     "text": [
      "<?xml version=\"1.0\" ?>\n",
      "<root>\n",
      "\t<variable name=\"First_column\">\n",
      "\t\t<Description>First column represents the first type of information</Description>\n",
      "\t\t<Minimum_value>1</Minimum_value>\n",
      "\t\t<Maximum_value>3</Maximum_value>\n",
      "\t\t<Mean_value>2.0</Mean_value>\n",
      "\t\t<Percentile_25th>1.5</Percentile_25th>\n",
      "\t\t<Percentile_75th>2.5</Percentile_75th>\n",
      "\t\t<Percentile_90th>2.8</Percentile_90th>\n",
      "\t</variable>\n",
      "\t<variable name=\"Second_column\">\n",
      "\t\t<Description>Second column represents the second type of information</Description>\n",
      "\t\t<Minimum_value>2</Minimum_value>\n",
      "\t\t<Maximum_value>4</Maximum_value>\n",
      "\t\t<Mean_value>3.0</Mean_value>\n",
      "\t\t<Percentile_25th>2.5</Percentile_25th>\n",
      "\t\t<Percentile_75th>3.5</Percentile_75th>\n",
      "\t\t<Percentile_90th>3.8</Percentile_90th>\n",
      "\t</variable>\n",
      "</root>\n",
      "\n"
     ]
    }
   ],
   "source": [
    "print(meta)"
   ]
  },
  {
   "cell_type": "markdown",
   "metadata": {},
   "source": [
    "# Testing if the file was sucessfully created and formatted"
   ]
  },
  {
   "cell_type": "code",
   "execution_count": 33,
   "metadata": {
    "collapsed": true
   },
   "outputs": [],
   "source": [
    "import xml.etree.ElementTree as ET"
   ]
  },
  {
   "cell_type": "markdown",
   "metadata": {},
   "source": [
    "# Reading the file with the same name we created"
   ]
  },
  {
   "cell_type": "code",
   "execution_count": 34,
   "metadata": {
    "collapsed": true
   },
   "outputs": [],
   "source": [
    "tree = ET.parse('test.xml')"
   ]
  },
  {
   "cell_type": "markdown",
   "metadata": {},
   "source": [
    "# Getting root and transforming the xml file in string to print"
   ]
  },
  {
   "cell_type": "code",
   "execution_count": 35,
   "metadata": {
    "collapsed": true
   },
   "outputs": [],
   "source": [
    "root = tree.getroot()\n",
    "metaxml = ET.tostring(root,encoding='utf8').decode('utf8')"
   ]
  },
  {
   "cell_type": "markdown",
   "metadata": {},
   "source": [
    "# Printing file well formatted"
   ]
  },
  {
   "cell_type": "code",
   "execution_count": 36,
   "metadata": {},
   "outputs": [
    {
     "name": "stdout",
     "output_type": "stream",
     "text": [
      "<?xml version='1.0' encoding='utf8'?>\n",
      "<root>\n",
      "\t<variable name=\"First_column\">\n",
      "\t\t<Description>First column represents the first type of information</Description>\n",
      "\t\t<Minimum_value>1</Minimum_value>\n",
      "\t\t<Maximum_value>3</Maximum_value>\n",
      "\t\t<Mean_value>2.0</Mean_value>\n",
      "\t\t<Percentile_25th>1.5</Percentile_25th>\n",
      "\t\t<Percentile_75th>2.5</Percentile_75th>\n",
      "\t\t<Percentile_90th>2.8</Percentile_90th>\n",
      "\t</variable>\n",
      "\t<variable name=\"Second_column\">\n",
      "\t\t<Description>Second column represents the second type of information</Description>\n",
      "\t\t<Minimum_value>2</Minimum_value>\n",
      "\t\t<Maximum_value>4</Maximum_value>\n",
      "\t\t<Mean_value>3.0</Mean_value>\n",
      "\t\t<Percentile_25th>2.5</Percentile_25th>\n",
      "\t\t<Percentile_75th>3.5</Percentile_75th>\n",
      "\t\t<Percentile_90th>3.8</Percentile_90th>\n",
      "\t</variable>\n",
      "</root>\n"
     ]
    }
   ],
   "source": [
    "print(metaxml)"
   ]
  },
  {
   "cell_type": "code",
   "execution_count": null,
   "metadata": {
    "collapsed": true
   },
   "outputs": [],
   "source": []
  },
  {
   "cell_type": "code",
   "execution_count": null,
   "metadata": {
    "collapsed": true
   },
   "outputs": [],
   "source": []
  }
 ],
 "metadata": {
  "kernelspec": {
   "display_name": "Python 3",
   "language": "python",
   "name": "python3"
  },
  "language_info": {
   "codemirror_mode": {
    "name": "ipython",
    "version": 3
   },
   "file_extension": ".py",
   "mimetype": "text/x-python",
   "name": "python",
   "nbconvert_exporter": "python",
   "pygments_lexer": "ipython3",
   "version": "3.6.1"
  }
 },
 "nbformat": 4,
 "nbformat_minor": 2
}
